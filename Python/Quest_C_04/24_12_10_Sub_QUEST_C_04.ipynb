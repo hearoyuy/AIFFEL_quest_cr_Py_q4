{
  "nbformat": 4,
  "nbformat_minor": 0,
  "metadata": {
    "colab": {
      "provenance": [],
      "include_colab_link": true
    },
    "kernelspec": {
      "name": "python3",
      "display_name": "Python 3"
    },
    "language_info": {
      "name": "python"
    }
  },
  "cells": [
    {
      "cell_type": "markdown",
      "metadata": {
        "id": "view-in-github",
        "colab_type": "text"
      },
      "source": [
        "<a href=\"https://colab.research.google.com/github/nbche/AIFFEL_quest_cr/blob/main/24_12_10_Sub_QUEST_C_04.ipynb\" target=\"_parent\"><img src=\"https://colab.research.google.com/assets/colab-badge.svg\" alt=\"Open In Colab\"/></a>"
      ]
    },
    {
      "cell_type": "code",
      "execution_count": null,
      "metadata": {
        "id": "qLW0gw7lEosD",
        "outputId": "9d9d82c7-f521-4f01-ed87-7efcf175e9ef",
        "colab": {
          "base_uri": "https://localhost:8080/"
        }
      },
      "outputs": [
        {
          "output_type": "stream",
          "name": "stdout",
          "text": [
            "Mounted at /content/drive\n"
          ]
        }
      ],
      "source": [
        "from google.colab import drive\n",
        "drive.mount('/content/drive')"
      ]
    },
    {
      "cell_type": "code",
      "source": [
        "import math\n",
        "\n",
        "def calculator():\n",
        "    while True:\n",
        "        try:\n",
        "            # 사용자로부터 첫 번째 정수 입력받기\n",
        "            num1 = int(input(\"첫 번째 정수를 입력하세요: \"))\n",
        "\n",
        "            # 사용자로부터 두 번째 정수 입력받기\n",
        "            num2 = int(input(\"두 번째 정수를 입력하세요: \"))\n",
        "\n",
        "            # 사용자로부터 연산자 입력받기\n",
        "            operator = input(\"연산자(+,-,*,/,**)를 입력하세요: \")\n",
        "\n",
        "            # 연산 수행\n",
        "            if operator == '+':\n",
        "                result = num1 + num2\n",
        "            elif operator == '-':\n",
        "                result = num1 - num2\n",
        "            elif operator == '*':\n",
        "                result = num1 * num2\n",
        "            elif operator == '/':\n",
        "                if num2 == 0:\n",
        "                  raise ZeroDivisionError(\"0으로 나눌 수 없습니다.\")\n",
        "                else:\n",
        "                  result = num1 / num2\n",
        "            elif operator == '**':\n",
        "                result = math.pow(num1, num2)\n",
        "            else:\n",
        "                raise ValueError(\"지원하지 않는 연산자입니다.\") # 지정된 연산자 외 입력이 들어오면 ValueError 발생\n",
        "\n",
        "            # 결과 출력\n",
        "            print(f\"결과: {result}\")\n",
        "\n",
        "            # 계속할지 여부 확인\n",
        "            cont = input(\"계속 계산하시겠습니까? (y/n): \").strip().lower() # 입력을 공백 없이 소문자로 통일\n",
        "            if cont != 'y':\n",
        "                print(\"계산기를 종료합니다.\")\n",
        "                break\n",
        "\n",
        "        except ValueError: # 정수가 아닌 값(or 문자열)를 입력했을 때 ValueError 발생\n",
        "            print(\"입력 오류: 잘못된 입력입니다. 정수를 입력해주세요.\")\n",
        "        try:\n",
        "          if num2 == 0:\n",
        "            print(\"2번째 정수가 0입니다.\")\n",
        "        except ZeroDivisionError:  #\n",
        "            print(\"나눗셈 오류: 오류가 발생하였습니다.\")\n",
        "\n",
        "# 계산기 실행\n",
        "calculator()"
      ],
      "metadata": {
        "id": "VXOwYFD3Sik7"
      },
      "execution_count": null,
      "outputs": []
    },
    {
      "cell_type": "code",
      "source": [
        "## Debugging / Test / Discussion"
      ],
      "metadata": {
        "id": "A5pK9qsVU3u3"
      },
      "execution_count": null,
      "outputs": []
    }
  ]
}